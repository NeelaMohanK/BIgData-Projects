{
 "cells": [
  {
   "cell_type": "code",
   "execution_count": 20,
   "id": "323c8ae8",
   "metadata": {},
   "outputs": [],
   "source": [
    "import pyspark\n",
    "import findspark\n",
    "findspark.init()\n",
    "from pyspark.sql import SparkSession\n",
    "from pyspark.sql.functions import *\n",
    "spark = SparkSession.builder.appName('pyspark-examples').getOrCreate()\n"
   ]
  },
  {
   "cell_type": "code",
   "execution_count": 58,
   "id": "95808f5e",
   "metadata": {},
   "outputs": [],
   "source": [
    "headers=['MARKET','SERIES','SYMBOL','SECURITY','PREV_CL_PR','OPEN_PRICE','HIGH_PRICE','LOW_PRICE','CLOSE_PRICE',\n",
    "                'NET_TRDVAL',\n",
    "'NET_TRDQTY','TRADES','HI_52_WK','LO_52_WK']"
   ]
  },
  {
   "cell_type": "code",
   "execution_count": 59,
   "id": "bc2fe660",
   "metadata": {},
   "outputs": [],
   "source": [
    "df = spark.sparkContext.textFile('sharemarket.csv',4)"
   ]
  },
  {
   "cell_type": "code",
   "execution_count": 60,
   "id": "97588452",
   "metadata": {},
   "outputs": [],
   "source": [
    "df=df.map(lambda x:x.split(',')).map(lambda y : y[0:11]+y[12:15])"
   ]
  },
  {
   "cell_type": "code",
   "execution_count": 61,
   "id": "006df1b9",
   "metadata": {},
   "outputs": [],
   "source": [
    "df = df.toDF(schema=headers)"
   ]
  },
  {
   "cell_type": "code",
   "execution_count": 62,
   "id": "3ca1d54a",
   "metadata": {},
   "outputs": [
    {
     "name": "stdout",
     "output_type": "stream",
     "text": [
      "+------+------+----------+--------------------+----------+----------+----------+---------+-----------+----------+----------+------+--------+--------+\n",
      "|MARKET|SERIES|    SYMBOL|            SECURITY|PREV_CL_PR|OPEN_PRICE|HIGH_PRICE|LOW_PRICE|CLOSE_PRICE|NET_TRDVAL|NET_TRDQTY|TRADES|HI_52_WK|LO_52_WK|\n",
      "+------+------+----------+--------------------+----------+----------+----------+---------+-----------+----------+----------+------+--------+--------+\n",
      "|     N|    N1|      IRFC|BOND 8.00% PA TAX...|      1086|      1085|      1085|  1084.54|       1085|3371959.44|      3108|     8|    1194|    1050|\n",
      "|     N|    N1|      JNPT|BOND 6.82% PA TAX...|      1001|    1007.1|      1015|   1007.1|       1015|     51370|        51|     2| 1529.99|    1000|\n",
      "|     N|    N1|      NHAI|BOND 8.20% PA TAX...|   1091.38|      1092|      1092|     1087|    1089.98|3861145.49|      3544|    39|    1140|    1045|\n",
      "|     N|    N1|      NTPC|8.41%S-R-NCD SERI...|   1198.99|      1135|      1135|     1135|       1135|    113500|       100|     1|    1275|  1022.1|\n",
      "|     N|    N1|    RECLTD|TAXFREE SEC NCD T...|   1083.54|      1088|      1088|     1085|       1085|    108530|       100|     2|  1184.8|    1041|\n",
      "|     N|    N2| BRITANNIA|   8.00% SEC RED NCD|     33.07|     33.07|      33.2|     32.8|      33.14| 677372.39|     20461|   107|      36|    29.9|\n",
      "|     N|    N2|     HUDCO|8.20 NCD05MAR27 F...|      1215|      1222|      1222|     1222|       1222|      3666|         3|     2|    1311|    1171|\n",
      "|     N|    N2|     IIFCL|  8.66% TAX FREE NCD|      1135|      1137|      1137|     1137|       1137|      4548|         4|     1|    1390|  1101.1|\n",
      "|     N|    N2|    M&MFIN| 9.00% UNSECURED NCD|      1104|   1101.98|   1101.98|  1080.05|    1089.43|  423116.5|       388|    12|    1229|  1049.5|\n",
      "|     N|    N2|    NABARD|7.64% TAX FREE TR...|    1238.5|   1239.01|   1239.55|  1237.01|    1238.22| 125060.45|       101|     4|  1304.8|    1181|\n",
      "|     N|    N2|      NHAI|BOND 8.30% PA TAX...|    1258.5|    1255.5|      1257|   1253.1|    1256.45|  464590.5|       370|     6|  1294.9|    1176|\n",
      "|     N|    N2|      NTPC|8.48%S-R-NCD SERI...|      1282|    1282.5|      1283|   1282.5|       1283|    128275|       100|     2|    1854|    1225|\n",
      "|     N|    N2|     PCHFL|SEC RE NCD 8.35% ...|      1000|      1000|   1004.67|     1000|    1001.68| 526800.91|       526|    17|    1028|  981.01|\n",
      "|     N|    N2|    RECLTD|TAXFREE SEC NCD T...|      1207|      1192|      1192|     1192|       1192|    238400|       200|     1|    1288|    1160|\n",
      "|     N|    N2|TATACAPHSG|SEC RED NCD 8.10%...|   1054.21|   1055.01|      1058|     1055|       1058| 1105942.5|      1048|    42|    1160|     950|\n",
      "|     N|    N3| BRITANNIA| UNSEC RED NCD 5.50%|     29.43|      29.4|      29.7|    29.38|      29.47|4233217.99|    143810|   787|    30.5|      29|\n",
      "|     N|    N3|DHANILOANS|DHANI LOANS & SER...|      1008|      1002|      1003|     1002|       1003|     78158|        78|     5|    1030|     810|\n",
      "|     N|    N3|     HUDCO|8.10 NCD 05MAR22 ...|   1054.84|   1054.84|    1055.9|  1054.52|    1054.91|1729096.92|      1639|    19|    1320|    1000|\n",
      "|     N|    N4|DHANILOANS|DHANI LOANS & SER...|    1020.8|   1022.01|   1022.01|  1022.01|    1022.01|   2044.02|         2|     1| 1098.75|     851|\n",
      "|     N|    N4|  ERFLNCDI|SEC RED NCD 9.00%...|       986|    988.22|    988.22|   988.22|     988.22|   29646.6|        30|     1|    1050|  829.95|\n",
      "+------+------+----------+--------------------+----------+----------+----------+---------+-----------+----------+----------+------+--------+--------+\n",
      "only showing top 20 rows\n",
      "\n"
     ]
    }
   ],
   "source": [
    "df.show()"
   ]
  },
  {
   "cell_type": "code",
   "execution_count": 63,
   "id": "d6bf70a1",
   "metadata": {},
   "outputs": [],
   "source": [
    "df.createOrReplaceTempView(\"market\")"
   ]
  },
  {
   "cell_type": "code",
   "execution_count": 64,
   "id": "8377c51c",
   "metadata": {},
   "outputs": [
    {
     "name": "stdout",
     "output_type": "stream",
     "text": [
      "+------+------+---------+--------------------+----------+----------+----------+---------+-----------+----------+----------+------+--------+--------+\n",
      "|MARKET|SERIES|   SYMBOL|            SECURITY|PREV_CL_PR|OPEN_PRICE|HIGH_PRICE|LOW_PRICE|CLOSE_PRICE|NET_TRDVAL|NET_TRDQTY|TRADES|HI_52_WK|LO_52_WK|\n",
      "+------+------+---------+--------------------+----------+----------+----------+---------+-----------+----------+----------+------+--------+--------+\n",
      "|     N|    N1|     IRFC|BOND 8.00% PA TAX...|      1086|      1085|      1085|  1084.54|       1085|3371959.44|      3108|     8|    1194|    1050|\n",
      "|     N|    N1|     JNPT|BOND 6.82% PA TAX...|      1001|    1007.1|      1015|   1007.1|       1015|     51370|        51|     2| 1529.99|    1000|\n",
      "|     N|    N1|     NHAI|BOND 8.20% PA TAX...|   1091.38|      1092|      1092|     1087|    1089.98|3861145.49|      3544|    39|    1140|    1045|\n",
      "|     N|    N1|     NTPC|8.41%S-R-NCD SERI...|   1198.99|      1135|      1135|     1135|       1135|    113500|       100|     1|    1275|  1022.1|\n",
      "|     N|    N1|   RECLTD|TAXFREE SEC NCD T...|   1083.54|      1088|      1088|     1085|       1085|    108530|       100|     2|  1184.8|    1041|\n",
      "|     N|    N2|BRITANNIA|   8.00% SEC RED NCD|     33.07|     33.07|      33.2|     32.8|      33.14| 677372.39|     20461|   107|      36|    29.9|\n",
      "|     N|    N2|    HUDCO|8.20 NCD05MAR27 F...|      1215|      1222|      1222|     1222|       1222|      3666|         3|     2|    1311|    1171|\n",
      "|     N|    N2|    IIFCL|  8.66% TAX FREE NCD|      1135|      1137|      1137|     1137|       1137|      4548|         4|     1|    1390|  1101.1|\n",
      "|     N|    N2|   M&MFIN| 9.00% UNSECURED NCD|      1104|   1101.98|   1101.98|  1080.05|    1089.43|  423116.5|       388|    12|    1229|  1049.5|\n",
      "|     N|    N2|   NABARD|7.64% TAX FREE TR...|    1238.5|   1239.01|   1239.55|  1237.01|    1238.22| 125060.45|       101|     4|  1304.8|    1181|\n",
      "+------+------+---------+--------------------+----------+----------+----------+---------+-----------+----------+----------+------+--------+--------+\n",
      "\n"
     ]
    }
   ],
   "source": [
    "spark.sql('select * from market limit 10').show()"
   ]
  },
  {
   "cell_type": "code",
   "execution_count": 65,
   "id": "f331c078",
   "metadata": {},
   "outputs": [
    {
     "name": "stdout",
     "output_type": "stream",
     "text": [
      "+----------------------+\n",
      "|count(DISTINCT series)|\n",
      "+----------------------+\n",
      "|                    53|\n",
      "+----------------------+\n",
      "\n"
     ]
    }
   ],
   "source": [
    "spark.sql('select count(distinct series) from market').show()"
   ]
  },
  {
   "cell_type": "code",
   "execution_count": 66,
   "id": "a1c50d76",
   "metadata": {},
   "outputs": [
    {
     "name": "stdout",
     "output_type": "stream",
     "text": [
      "+------+\n",
      "|series|\n",
      "+------+\n",
      "|    N3|\n",
      "|    N2|\n",
      "|    N5|\n",
      "|    N4|\n",
      "|    N6|\n",
      "|    N1|\n",
      "|    NA|\n",
      "|    NC|\n",
      "|    N7|\n",
      "|    N8|\n",
      "|    N9|\n",
      "|    NB|\n",
      "|    NL|\n",
      "|    NK|\n",
      "|    NJ|\n",
      "|    NH|\n",
      "|    NE|\n",
      "|    ND|\n",
      "|    NM|\n",
      "|    NI|\n",
      "+------+\n",
      "only showing top 20 rows\n",
      "\n"
     ]
    }
   ],
   "source": [
    "spark.sql('select distinct series from market').show()"
   ]
  },
  {
   "cell_type": "code",
   "execution_count": 67,
   "id": "3f03e538",
   "metadata": {},
   "outputs": [
    {
     "name": "stdout",
     "output_type": "stream",
     "text": [
      "+------+------------------+------------------+------------------+------------------+\n",
      "|series|   sum(open_price)|   sum(high_price)|    sum(low_price)|  sum(close_price)|\n",
      "+------+------------------+------------------+------------------+------------------+\n",
      "|    N3|           2086.24|2088.6000000000004|            2085.9|           2087.38|\n",
      "|    N2|          10518.07|           10528.4|10491.460000000001|          10510.92|\n",
      "|    N5|           8720.56|            8850.5|           8690.01|            8831.0|\n",
      "|    N4|11936.259999999998|11970.689999999999|          11916.05|          11927.66|\n",
      "|    N6|           26406.1|          26432.09|26300.449999999997|26325.170000000002|\n",
      "|    N1|            5407.1|            5415.0| 5398.639999999999|           5409.98|\n",
      "|    NA|           19748.0|20098.340000000004|           19723.0|          20059.57|\n",
      "|    NC|          14319.21|           14391.7|           14318.5|           14382.9|\n",
      "|    N7|           3232.41|           3290.55|           3232.41|           3290.53|\n",
      "|    N8|           8148.98|           8175.86|           8127.61| 8130.780000000001|\n",
      "|    N9|            8092.5|            8108.0|            8092.5|            8108.0|\n",
      "|    NB|           7156.07|           7168.02|           7153.06|           7165.02|\n",
      "|    NL|           3430.58|            3431.5|            3368.1|            3380.9|\n",
      "|    NK|            1927.0|           1976.75|           1912.01|           1915.72|\n",
      "|    NJ|            4285.7|           4296.99|            4281.0|           4291.49|\n",
      "|    NH|           4690.05|           4711.39|           4683.55|           4705.37|\n",
      "|    NE|16807.010000000002|           16860.4|           16771.2|          16846.83|\n",
      "|    ND|            3705.1|            3714.9|3696.1499999999996|3704.8600000000006|\n",
      "|    NM|            1048.8|            1069.2|            1048.8|            1059.8|\n",
      "|    NI|           5192.99|            5226.0|            5127.0|           5127.01|\n",
      "+------+------------------+------------------+------------------+------------------+\n",
      "only showing top 20 rows\n",
      "\n"
     ]
    }
   ],
   "source": [
    "spark.sql('select series,sum(open_price),sum(high_price),sum(low_price),sum(close_price) from market group by series').show()"
   ]
  },
  {
   "cell_type": "code",
   "execution_count": 68,
   "id": "bf17464b",
   "metadata": {},
   "outputs": [
    {
     "name": "stdout",
     "output_type": "stream",
     "text": [
      "+--------------------+------+---------------+\n",
      "|            security|series|max(net_trdqty)|\n",
      "+--------------------+------+---------------+\n",
      "|  10.25% SRNCD SR IX|    N9|             10|\n",
      "|7.34 NCD 16FEB23 ...|    N4|            110|\n",
      "|7.43% TAX FREE TR...|    NH|             96|\n",
      "|7.51 NCD 16FEB28 ...|    N5|           2063|\n",
      "|7.64% TAX FREE TR...|    N2|            101|\n",
      "|7.64% TAX FREETRI...|    N8|           1173|\n",
      "|  7.74% TAX FREE NCD|    N7|            282|\n",
      "|   8.00% SEC RED NCD|    N2|          20461|\n",
      "|8.10 NCD 05MAR22 ...|    N3|           1639|\n",
      "|8.12/8.32% TAX FR...|    NI|            705|\n",
      "|8.20 NCD05MAR27 F...|    N2|              3|\n",
      "|  8.20% TAX FREE NCD|    N4|           1275|\n",
      "|  8.30% TAX FREE NCD|    N5|            205|\n",
      "|8.41%S-R-NCD SERI...|    N1|            100|\n",
      "|8.48%S-R-NCD SERI...|    N2|            100|\n",
      "|8.49% SEC NON-CUM...|    N7|         143547|\n",
      "|8.50% TAX FREE TR...|    N5|            100|\n",
      "|8.52% TAX FREE TR...|    N4|            123|\n",
      "|  8.66% TAX FREE NCD|    N2|              4|\n",
      "|8.75% TAX FREE TR...|    N6|           7456|\n",
      "+--------------------+------+---------------+\n",
      "only showing top 20 rows\n",
      "\n"
     ]
    }
   ],
   "source": [
    "spark.sql('select security,series,max(net_trdqty) from market group by security,series').show()"
   ]
  },
  {
   "cell_type": "code",
   "execution_count": 85,
   "id": "3caafe6b",
   "metadata": {},
   "outputs": [
    {
     "name": "stdout",
     "output_type": "stream",
     "text": [
      "+------+----------+-------------------------------------------------------+\n",
      "|series|net_trdval|(((open_price + high_price) + low_price) + close_price)|\n",
      "+------+----------+-------------------------------------------------------+\n",
      "|    N2|      3666|                                                 4888.0|\n",
      "|    N4|   2044.02|                                                4088.04|\n",
      "|    N5|    1912.4|                                                 3824.8|\n",
      "|    N6|      1341|                                                 5364.0|\n",
      "|    NB|      1843|                                                 3686.0|\n",
      "+------+----------+-------------------------------------------------------+\n",
      "\n"
     ]
    }
   ],
   "source": [
    "#.Display the series whose sum of all prices greater than the net trade value\n",
    "\n",
    "spark.sql('select series,net_trdval,(open_price+high_price+low_price+close_price) from market where (open_price+high_price+low_price+close_price)>net_trdval').show()"
   ]
  },
  {
   "cell_type": "code",
   "execution_count": 71,
   "id": "05ede5a6",
   "metadata": {},
   "outputs": [
    {
     "name": "stdout",
     "output_type": "stream",
     "text": [
      "+------+------+----------+--------------------+----------+----------+----------+---------+-----------+----------+----------+------+--------+--------+\n",
      "|MARKET|SERIES|    SYMBOL|            SECURITY|PREV_CL_PR|OPEN_PRICE|HIGH_PRICE|LOW_PRICE|CLOSE_PRICE|NET_TRDVAL|NET_TRDQTY|TRADES|HI_52_WK|LO_52_WK|\n",
      "+------+------+----------+--------------------+----------+----------+----------+---------+-----------+----------+----------+------+--------+--------+\n",
      "|     N|    N2|     HUDCO|8.20 NCD05MAR27 F...|      1215|      1222|      1222|     1222|       1222|      3666|         3|     2|    1311|    1171|\n",
      "|     N|    N4|DHANILOANS|DHANI LOANS & SER...|    1020.8|   1022.01|   1022.01|  1022.01|    1022.01|   2044.02|         2|     1| 1098.75|     851|\n",
      "|     N|    N5|TATACAPHSG|SEC RED NCD 8.20%...|      1000|     912.4|      1000|    912.4|       1000|    1912.4|         2|     2|    1000|   912.4|\n",
      "|     N|    N6|     HUDCO|BOND 7.03% PA TAX...|      1336|      1341|      1341|     1341|       1341|      1341|         1|     1| 1549.99|  1039.6|\n",
      "|     N|    NB|IBUCCREDIT|SERENCD8.84%SRVIC...|       923|       923|       923|      920|        920|      1843|         2|     2|    1080|     712|\n",
      "+------+------+----------+--------------------+----------+----------+----------+---------+-----------+----------+----------+------+--------+--------+\n",
      "\n"
     ]
    }
   ],
   "source": [
    "#.Display the series whose sum of all prices greater than the net trade value\n",
    "\n",
    "spark.sql('select * from market where (open_price+high_price+low_price+close_price)>net_trdval').show()"
   ]
  },
  {
   "cell_type": "code",
   "execution_count": 72,
   "id": "9287b57b",
   "metadata": {},
   "outputs": [
    {
     "name": "stdout",
     "output_type": "stream",
     "text": [
      "+------+----------+\n",
      "|series|net_trdqty|\n",
      "+------+----------+\n",
      "|    NH|       989|\n",
      "+------+----------+\n",
      "\n"
     ]
    }
   ],
   "source": [
    "#6.Display the series with highest net trade quantity.(Using pyspark)\n",
    "spark.sql('select series,net_trdqty from market order by net_trdqty desc limit 1').show()"
   ]
  },
  {
   "cell_type": "code",
   "execution_count": 78,
   "id": "6e0d77cc",
   "metadata": {},
   "outputs": [
    {
     "name": "stdout",
     "output_type": "stream",
     "text": [
      "+---------------+---------------+\n",
      "|max(open_price)|min(open_price)|\n",
      "+---------------+---------------+\n",
      "|          11450|             13|\n",
      "+---------------+---------------+\n",
      "\n"
     ]
    }
   ],
   "source": [
    "#7.7. Display the highest and lowest open price(Using sql)\n",
    "spark.sql('select max(int(open_price)),min(int(open_price)) from market').show()"
   ]
  },
  {
   "cell_type": "code",
   "execution_count": 79,
   "id": "295c1f34",
   "metadata": {},
   "outputs": [
    {
     "name": "stdout",
     "output_type": "stream",
     "text": [
      "+------+------+----------+--------------------+----------+----------+----------+---------+-----------+----------+----------+------+--------+--------+\n",
      "|MARKET|SERIES|    SYMBOL|            SECURITY|PREV_CL_PR|OPEN_PRICE|HIGH_PRICE|LOW_PRICE|CLOSE_PRICE|NET_TRDVAL|NET_TRDQTY|TRADES|HI_52_WK|LO_52_WK|\n",
      "+------+------+----------+--------------------+----------+----------+----------+---------+-----------+----------+----------+------+--------+--------+\n",
      "|     N|    N1|      NHAI|BOND 8.20% PA TAX...|   1091.38|      1092|      1092|     1087|    1089.98|3861145.49|      3544|    39|    1140|    1045|\n",
      "|     N|    N2| BRITANNIA|   8.00% SEC RED NCD|     33.07|     33.07|      33.2|     32.8|      33.14| 677372.39|     20461|   107|      36|    29.9|\n",
      "|     N|    N2|    M&MFIN| 9.00% UNSECURED NCD|      1104|   1101.98|   1101.98|  1080.05|    1089.43|  423116.5|       388|    12|    1229|  1049.5|\n",
      "|     N|    N2|     PCHFL|SEC RE NCD 8.35% ...|      1000|      1000|   1004.67|     1000|    1001.68| 526800.91|       526|    17|    1028|  981.01|\n",
      "|     N|    N2|TATACAPHSG|SEC RED NCD 8.10%...|   1054.21|   1055.01|      1058|     1055|       1058| 1105942.5|      1048|    42|    1160|     950|\n",
      "|     N|    N3| BRITANNIA| UNSEC RED NCD 5.50%|     29.43|      29.4|      29.7|    29.38|      29.47|4233217.99|    143810|   787|    30.5|      29|\n",
      "|     N|    N3|     HUDCO|8.10 NCD 05MAR22 ...|   1054.84|   1054.84|    1055.9|  1054.52|    1054.91|1729096.92|      1639|    19|    1320|    1000|\n",
      "|     N|    N4|      IIFL|SEC RED NCD 9.75 ...|      1024|      1020|      1032|     1020|    1030.47|  972888.7|       945|    23|  1057.8|  985.52|\n",
      "|     N|    N4|     IIHFL|UNSEC RE NCD 10% ...|    982.66|    982.66|      1003|   980.25|     980.25|  723309.5|       730|    33|    1003|     974|\n",
      "|     N|    N4|      NHAI|8.52% TAX FREE TR...|   1162.92|      1163|      1163|     1162|       1162|    143031|       123|    13|    1349|  1093.1|\n",
      "|     N|    N5|   EHFLNCD|SEC RED NCD 9.57%...|    961.09|       951|       970|      951|        964|    559375|       579|    13|    1100|     795|\n",
      "|     N|    N5|     HUDCO|7.51 NCD 16FEB28 ...|    1192.5|    1191.5|    1191.5|  1189.01|       1191| 2456326.6|      2063|    15| 1279.89| 1150.25|\n",
      "|     N|    N5|     IIHFL|UNSEC RE NCD 9.60...|    983.56|    983.56|       985|    982.5|     983.99|1833968.47|      1864|    48|     998|     980|\n",
      "|     N|    N6|   EHFLNCD|SEC RED NCD 10% S...|       931|       940|       945|      918|     919.24|2335713.08|      2528|    39|  1047.5|  748.96|\n",
      "|     N|    N6|  ERFLNCDI|SEC RED NCD 9.25%...|       905|     900.8|     900.8|      900|        900|    525664|       584|    16|     945|     750|\n",
      "|     N|    N6|      NHAI|8.75% TAX FREE TR...|   1277.08|      1287|      1290|     1287|    1287.58|9604082.74|      7456|    67| 1406.97|    1247|\n",
      "|     N|    N6| NHBTF2014|BOND 9.01%PA TF T...|      7269|      7220|      7220|  7150.05|    7150.05|  579720.5|        81|    14|    7650|    6957|\n",
      "|     N|    N6|      NTPC|8.91%S-R-NCD SERI...|      1428|      1425|      1430|     1414|    1426.51| 274271.83|       193|    11| 1520.01|    1386|\n",
      "|     N|    N6|TATACAPHSG|SEC RED NCD 8.30%...|      1076|      1070|   1075.99|   1068.1|    1073.99| 392325.44|       366|    14|    1300|    1000|\n",
      "|     N|    N7|      NTPC|8.49% SEC NON-CUM...|     13.85|     13.75|      13.9|    13.75|      13.88|1993104.14|    143547|   106|    15.2|      12|\n",
      "+------+------+----------+--------------------+----------+----------+----------+---------+-----------+----------+----------+------+--------+--------+\n",
      "only showing top 20 rows\n",
      "\n"
     ]
    }
   ],
   "source": [
    "#8.Query to display the series which have trades more than 80.\n",
    "spark.sql('select * from market where trades>10').show()"
   ]
  },
  {
   "cell_type": "code",
   "execution_count": 86,
   "id": "01eaf8b4",
   "metadata": {},
   "outputs": [
    {
     "name": "stdout",
     "output_type": "stream",
     "text": [
      "+------+\n",
      "|series|\n",
      "+------+\n",
      "|    N2|\n",
      "|    N3|\n",
      "|    N7|\n",
      "+------+\n",
      "\n"
     ]
    }
   ],
   "source": [
    "spark.sql('select series from market where trades>80').show()"
   ]
  },
  {
   "cell_type": "code",
   "execution_count": 91,
   "id": "29b5fd60",
   "metadata": {},
   "outputs": [
    {
     "name": "stdout",
     "output_type": "stream",
     "text": [
      "+------+-----------------------------------+\n",
      "|series|(sum(net_trdval) - sum(net_Trdqty))|\n",
      "+------+-----------------------------------+\n",
      "|    N3|                         5894945.91|\n",
      "|    N2|                         3674571.25|\n",
      "|    N5|                         5581855.67|\n",
      "|    N4|                 3474029.2199999997|\n",
      "|    N6|                      1.678578209E7|\n",
      "|    N1|                         7499601.93|\n",
      "|    NA|                         3331953.97|\n",
      "|    NC|                         2505038.79|\n",
      "|    N7|                         2218463.04|\n",
      "|    N8|                         3982020.85|\n",
      "|    N9|                           455370.9|\n",
      "|    NB|                         2430891.59|\n",
      "|    NL|                         1581525.31|\n",
      "|    NK|                         1010121.69|\n",
      "|    NJ|                         7421503.24|\n",
      "|    NH|                         1686244.58|\n",
      "|    NE|                         2538813.87|\n",
      "|    ND|                 4354764.4399999995|\n",
      "|    NM|                           583166.7|\n",
      "|    NI|                         2882284.35|\n",
      "+------+-----------------------------------+\n",
      "only showing top 20 rows\n",
      "\n"
     ]
    }
   ],
   "source": [
    "#9.Display the difference between the net trade value net trade quantity for each series.(Using sql)\n",
    "spark.sql('select  series,sum(net_trdval)-sum(net_Trdqty) from market group by series ').show()"
   ]
  },
  {
   "cell_type": "code",
   "execution_count": null,
   "id": "84389e63",
   "metadata": {},
   "outputs": [],
   "source": []
  }
 ],
 "metadata": {
  "kernelspec": {
   "display_name": "Python 3 (ipykernel)",
   "language": "python",
   "name": "python3"
  },
  "language_info": {
   "codemirror_mode": {
    "name": "ipython",
    "version": 3
   },
   "file_extension": ".py",
   "mimetype": "text/x-python",
   "name": "python",
   "nbconvert_exporter": "python",
   "pygments_lexer": "ipython3",
   "version": "3.8.10"
  }
 },
 "nbformat": 4,
 "nbformat_minor": 5
}
